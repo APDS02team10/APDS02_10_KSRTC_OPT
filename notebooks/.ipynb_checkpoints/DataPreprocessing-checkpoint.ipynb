{
 "cells": [
  {
   "cell_type": "code",
   "execution_count": 20,
   "metadata": {},
   "outputs": [],
   "source": [
    "import json as js\n",
    "\n",
    "with open('../src/models/datastructure.json') as f:\n",
    "    ds_data = js.load(f)"
   ]
  },
  {
   "cell_type": "code",
   "execution_count": 3,
   "metadata": {},
   "outputs": [],
   "source": [
    "a = \"        629080 50134882 000001 1           2 01 198317 0 014 035 013 034 0 0 01  00              10              0         10         0              0            0 01-NOV-18 08:31:48             3292 ******** 01 N           11621 01            201 01-NOV-18 SANTHOSH   7.81                    0                 0 BIRUR       KADUR               6 PASSENGER          D NA ---------- ---------                  0                      100                0                0        N                  \""
   ]
  },
  {
   "cell_type": "code",
   "execution_count": 39,
   "metadata": {},
   "outputs": [
    {
     "name": "stdout",
     "output_type": "stream",
     "text": [
      "start 1 and end 14\n"
     ]
    },
    {
     "data": {
      "text/plain": [
       "'629080'"
      ]
     },
     "execution_count": 39,
     "metadata": {},
     "output_type": "execute_result"
    }
   ],
   "source": [
    "p = ds_data['data_cols']['ETD_WAYBILL_NO']\n",
    "print(\"start {} and end {}\".format(p['start'],p['size']))\n",
    "a[p['start'] - 1:p['size']+p['start'] - 1].strip()\n"
   ]
  },
  {
   "cell_type": "code",
   "execution_count": 37,
   "metadata": {},
   "outputs": [
    {
     "data": {
      "text/plain": [
       "<string.Template at 0x1052022e8>"
      ]
     },
     "execution_count": 37,
     "metadata": {},
     "output_type": "execute_result"
    }
   ],
   "source": [
    "from string import Template as t\n",
    "s = t(\"$\"+\",$\".join(ds_data['data_cols'].keys()))"
   ]
  },
  {
   "cell_type": "code",
   "execution_count": 42,
   "metadata": {},
   "outputs": [],
   "source": [
    "g = ds_data['data_cols']\n",
    "h = {k:a[v['start'] - 1:v['size']+v['start'] - 1].strip() for k,v in g.items()}\n"
   ]
  },
  {
   "cell_type": "code",
   "execution_count": 43,
   "metadata": {},
   "outputs": [
    {
     "data": {
      "text/plain": [
       "'629080,50134882,000001,1,2,1,198317,0,014,035,013,034,0,0,01,00,10,0,10,0,0,0,01-NOV-18,08:31:48,3292,********,01,N,11621,01,201,01-NOV-18,SANTHOSH,7.81,0,0,BIRUR,KADUR,6'"
      ]
     },
     "execution_count": 43,
     "metadata": {},
     "output_type": "execute_result"
    }
   ],
   "source": [
    "s.substitute(h)"
   ]
  },
  {
   "cell_type": "code",
   "execution_count": 1,
   "metadata": {},
   "outputs": [],
   "source": [
    "import os, sys\n",
    "os.getcwd()\n",
    "os.pardir\n",
    "# sys.path.append(os.path.join(os.pardir,\"/src/data\"))\n",
    "# os.path.join(os.pardir,\"/src/data\")\n",
    "sys.path.insert(0,os.path.pardir)\n",
    "from src.data import DataProcessingModule as dp\n",
    "dp_class = dp.DataPreprocessing()\n"
   ]
  },
  {
   "cell_type": "code",
   "execution_count": 6,
   "metadata": {},
   "outputs": [],
   "source": [
    "# dp_class.readDataParser('../src/models/datastructure.json')\n",
    "# dp_class.getTemplate()\n",
    "# dp_class.parseString(a)"
   ]
  },
  {
   "cell_type": "code",
   "execution_count": 42,
   "metadata": {},
   "outputs": [
    {
     "data": {
      "text/plain": [
       "'629080,50134882,000001,1,2,1,198317,0,014,035,013,034,0,0,01,00,10,0,10,0,0,0,01-NOV-18,08:31:48,3292,********,01,N,11621,01,201,01-NOV-18,SANTHOSH,7.81,0,0,BIRUR,KADUR,6'"
      ]
     },
     "execution_count": 42,
     "metadata": {},
     "output_type": "execute_result"
    }
   ],
   "source": [
    "k = dp_class.readDataParser('../src/models/datastructure.json')\n",
    "dp_class.parseTemplateForString(a)"
   ]
  },
  {
   "cell_type": "code",
   "execution_count": 47,
   "metadata": {},
   "outputs": [
    {
     "data": {
      "text/plain": [
       "'ETD_WAYBILL_NO,ETD_EBTMNO,ETD_ROUTE_NO,ETD_ROUTE_TYPE,ETD_TRIP_NO,ETD_TICKET_TYPE,ETD_TICKET_NO,ETD_TICKET_SUBNO,ETD_CUR_STOP_NO,ETD_CUR_STOP_CODE,ETD_DST_STOP_NO,ETD_DST_STOP_CODE,ETD_CUR_SUB_STAGE,ETD_DST_SUB_STAGE,ETD_ADULTS,ETD_CHILD,ETD_ADULT_FARE,ETD_CHILD_FARE,ETD_AMOUNT,ETD_ARF,ETD_BRIDGE_FEE,ETD_MISC_FEE,ETD_DATE,ETD_TD_TIME,ETD_TRIPCOLL_AMT,ETD_DOC_NO,ETD_BUS_SRV_CODE,ETD_SEASON,ETD_TOT_COL_AMT,ETD_TICKET_TYPE2,ETD_DEPOT_CODE,ETD_LAST_UPD_DATE,ETD_UID,ETD_BATTERY_VOLT,ETD_CONCN_AMOUNT,ETD_CONCN_PERCENT,ETD_CUR_STOP_NAME,ETD_DST_STOP_NAME,ETD_KMS'"
      ]
     },
     "execution_count": 47,
     "metadata": {},
     "output_type": "execute_result"
    }
   ],
   "source": [
    "\",\".join(k['data_cols'].keys())"
   ]
  },
  {
   "cell_type": "code",
   "execution_count": 56,
   "metadata": {},
   "outputs": [
    {
     "name": "stdout",
     "output_type": "stream",
     "text": [
      "column_name (1).txt\n",
      "test.txt\n"
     ]
    }
   ],
   "source": [
    "src_dir = '../data/raw/DATA_d.TXT'\n",
    "proce_dir = '../data/clean_data/DATA_d.TXT'\n",
    "\n",
    "import os\n",
    "os.listdir('../data/raw')\n",
    "for file in os.listdir('../data/raw'):\n",
    "    if file.endswith(\".txt\"):\n",
    "        print(file)"
   ]
  },
  {
   "cell_type": "code",
   "execution_count": 55,
   "metadata": {},
   "outputs": [],
   "source": [
    "import shutil\n",
    "shutil.move()"
   ]
  },
  {
   "cell_type": "code",
   "execution_count": 51,
   "metadata": {},
   "outputs": [
    {
     "name": "stdout",
     "output_type": "stream",
     "text": [
      "length @@ 1001\n",
      "629080,50134882,000001,1,2,1,198317,0,014,035,013,034,0,0,01,00,10,0,10,0,0,0,01-NOV-18,08:31:48,3292,********,01,N,11621,01,201,01-NOV-18,SANTHOSH,7.81,0,0,BIRUR,KADUR,6\n",
      "length @@ 1001\n",
      "629080,50134882,000001,1,2,1,198318,0,014,035,010,028,0,0,01,00,44,0,44,0,0,0,01-NOV-18,08:31:56,3336,********,01,N,11665,01,201,01-NOV-18,SANTHOSH,7.79,0,0,BIRUR,ARSIKERE,43\n",
      "length @@ 1001\n",
      "629080,50134882,000001,1,2,1,198317,0,014,035,013,034,0,0,01,00,10,0,10,0,0,0,01-NOV-18,08:31:48,3292,********,01,N,11621,01,201,01-NOV-18,SANTHOSH,7.81,0,0,BIRUR,KADUR,6\n",
      "length @@ 1001\n",
      "629080,50134882,000001,1,2,1,198318,0,014,035,010,028,0,0,01,00,44,0,44,0,0,0,01-NOV-18,08:31:56,3336,********,01,N,11665,01,201,01-NOV-18,SANTHOSH,7.79,0,0,BIRUR,ARSIKERE,43\n",
      "length @@ 1001\n",
      "629080,50134882,000001,1,2,1,198319,0,014,035,013,034,0,0,01,00,10,0,10,0,0,0,01-NOV-18,08:32:20,3346,********,01,N,11675,01,201,01-NOV-18,SANTHOSH,7.82,0,0,BIRUR,KADUR,6\n",
      "length @@ 1001\n",
      "629080,50134882,000001,1,2,1,198320,0,014,035,013,034,0,0,01,00,10,0,10,0,0,0,01-NOV-18,08:32:22,3356,********,01,N,11685,01,201,01-NOV-18,SANTHOSH,7.78,0,0,BIRUR,KADUR,6\n",
      "length @@ 1001\n",
      "629080,50134882,000001,1,2,1,198321,0,013,034,013,034,0,0,00,00,0,0,0,0,0,0,01-NOV-18,08:36:08,3356,********,01,O,11685,01,201,01-NOV-18,SANTHOSH,7.81,0,0,KADUR,KADUR,0\n",
      "length @@ 1001\n",
      "629080,50134882,000001,1,2,1,198322,0,013,034,011,030,0,0,01,00,30,0,30,0,0,0,01-NOV-18,08:46:57,3386,********,01,N,11715,01,201,01-NOV-18,SANTHOSH,7.82,0,0,KADUR,BANAVARA,14\n",
      "length @@ 1001\n",
      "629080,50134882,000001,1,2,1,198323,0,013,034,010,028,0,0,01,00,0,0,0,0,0,0,01-NOV-18,08:47:16,3386,833,01,N,11715,98,201,01-NOV-18,SANTHOSH,7.8,40,100,KADUR,ARSIKERE,37\n",
      "length @@ 1001\n",
      "629080,50134882,000001,1,2,1,198324,0,013,034,010,028,0,0,01,00,0,0,0,0,0,0,01-NOV-18,08:48:36,3386,266,01,N,11715,98,201,01-NOV-18,SANTHOSH,7.78,40,100,KADUR,ARSIKERE,37\n",
      "length @@ 1001\n",
      "629080,50134882,000001,1,2,1,198325,0,013,034,010,028,0,0,01,00,40,0,40,0,0,0,01-NOV-18,08:48:42,3426,********,01,N,11755,01,201,01-NOV-18,SANTHOSH,7.8,0,0,KADUR,ARSIKERE,37\n",
      "length @@ 1001\n",
      "629080,50134882,000001,1,2,1,198338,0,013,034,010,028,0,0,01,00,40,0,30,0,0,0,01-NOV-18,08:51:26,3806,291,01,N,12135,01,201,01-NOV-18,SANTHOSH,7.75,0,0,KADUR,ARSIKERE,37\n",
      "length @@ 1001\n",
      "629080,50134882,000001,1,2,1,198339,0,013,034,010,028,0,0,01,00,40,0,40,0,0,0,01-NOV-18,08:51:28,3846,********,01,N,12175,01,201,01-NOV-18,SANTHOSH,7.71,0,0,KADUR,ARSIKERE,37\n",
      "length @@ 1001\n",
      "629097,50134732,000001,1,2,1,221427,0,017,045,016,042,0,0,01,00,25,13,25,0,0,0,01-NOV-18,10:38:26,1685,********,01,N,7538,01,201,01-NOV-18,SANTHOSH,7.92,0,0,SHIVAMOGGA,BHADRAVATHI,12\n",
      "length @@ 1001\n",
      "629097,50134732,000001,1,2,1,221428,0,017,045,016,042,0,0,01,00,25,13,25,0,0,0,01-NOV-18,10:38:38,1710,********,01,N,7563,01,201,01-NOV-18,SANTHOSH,7.9,0,0,SHIVAMOGGA,BHADRAVATHI,12\n"
     ]
    }
   ],
   "source": [
    "list_of_data = [\",\".join(k['data_cols'].keys())]\n",
    "read_flag = False\n",
    "h = '../data/raw/DATA_d.TXT'\n",
    "c = h.replace('/raw/','/clean_data/')\n",
    "\n",
    "fw = open(c,'w')\n",
    "fw.write(\",\".join(k['data_cols'].keys()))\n",
    "fw.write(\"\\n\")\n",
    "\n",
    "with open(h) as f:\n",
    "    p = f.readline()\n",
    "    while p:\n",
    "        if 'ETD_WAYBILL_NO' in p:\n",
    "            p = f.readline()\n",
    "            p = f.readline()\n",
    "            read_flag = True\n",
    "            continue\n",
    "        if read_flag:\n",
    "            if len(p) < 10:\n",
    "                read_flag = False\n",
    "            else:\n",
    "                g = dp_class.parseTemplateForString(p)\n",
    "                fw.write(g)\n",
    "                fw.write(\"\\n\")\n",
    "        p = f.readline()\n",
    "        \n",
    "fw.close()           \n",
    "            "
   ]
  },
  {
   "cell_type": "code",
   "execution_count": 49,
   "metadata": {},
   "outputs": [],
   "source": [
    "h = '../data/raw/DATA_d.TXT'\n",
    "c = h.replace('/raw/','/processed/')\n",
    "\n",
    "with open(c, mode='w') as f:\n",
    "    f.writelines(list_of_data)"
   ]
  },
  {
   "cell_type": "code",
   "execution_count": 14,
   "metadata": {},
   "outputs": [
    {
     "name": "stdout",
     "output_type": "stream",
     "text": [
      "operation completed\n"
     ]
    }
   ],
   "source": [
    "try:\n",
    "    p[0]\n",
    "except IndexError:\n",
    "    print(\"error\")\n",
    "else:\n",
    "    print('operation completed')\n",
    "  "
   ]
  }
 ],
 "metadata": {
  "kernelspec": {
   "display_name": "Python 3",
   "language": "python",
   "name": "python3"
  },
  "language_info": {
   "codemirror_mode": {
    "name": "ipython",
    "version": 3
   },
   "file_extension": ".py",
   "mimetype": "text/x-python",
   "name": "python",
   "nbconvert_exporter": "python",
   "pygments_lexer": "ipython3",
   "version": "3.6.4"
  }
 },
 "nbformat": 4,
 "nbformat_minor": 2
}
