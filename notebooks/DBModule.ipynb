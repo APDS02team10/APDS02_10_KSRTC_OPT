{
 "cells": [
  {
   "cell_type": "code",
   "execution_count": 1,
   "metadata": {},
   "outputs": [],
   "source": [
    "import datetime as dt"
   ]
  },
  {
   "cell_type": "code",
   "execution_count": 2,
   "metadata": {},
   "outputs": [],
   "source": [
    "import dateutil as du"
   ]
  },
  {
   "cell_type": "code",
   "execution_count": 3,
   "metadata": {},
   "outputs": [
    {
     "data": {
      "text/plain": [
       "'2016-11-01T10:38:26'"
      ]
     },
     "execution_count": 3,
     "metadata": {},
     "output_type": "execute_result"
    }
   ],
   "source": [
    "p = du.parser.parse('01-NOV-2016 10:38:26')\n",
    "p.isoformat()"
   ]
  },
  {
   "cell_type": "code",
   "execution_count": 4,
   "metadata": {},
   "outputs": [
    {
     "data": {
      "text/plain": [
       "Timestamp('2016-11-01 10:38:26')"
      ]
     },
     "execution_count": 4,
     "metadata": {},
     "output_type": "execute_result"
    }
   ],
   "source": [
    "import pandas as pd\n",
    "g = pd.Timestamp(p)\n",
    "g"
   ]
  },
  {
   "cell_type": "code",
   "execution_count": 5,
   "metadata": {},
   "outputs": [
    {
     "data": {
      "text/plain": [
       "datetime.datetime(2016, 11, 1, 10, 38, 26)"
      ]
     },
     "execution_count": 5,
     "metadata": {},
     "output_type": "execute_result"
    }
   ],
   "source": [
    "du.parser.parse(p.isoformat())"
   ]
  },
  {
   "cell_type": "code",
   "execution_count": 2,
   "metadata": {},
   "outputs": [],
   "source": [
    "import pandas as pd\n"
   ]
  },
  {
   "cell_type": "code",
   "execution_count": 7,
   "metadata": {},
   "outputs": [],
   "source": [
    "import json as js\n",
    "\n",
    "with open('../src/models/datastructure.json') as f:\n",
    "    ds_data = js.load(f)"
   ]
  },
  {
   "cell_type": "code",
   "execution_count": 8,
   "metadata": {},
   "outputs": [
    {
     "data": {
      "text/plain": [
       "['ETD_WAYBILL_NO',\n",
       " 'ETD_EBTMNO',\n",
       " 'ETD_ROUTE_NO',\n",
       " 'ETD_ROUTE_TYPE',\n",
       " 'ETD_TRIP_NO',\n",
       " 'ETD_TICKET_TYPE',\n",
       " 'ETD_TICKET_NO',\n",
       " 'ETD_TICKET_SUBNO',\n",
       " 'ETD_CUR_STOP_NO',\n",
       " 'ETD_CUR_STOP_CODE',\n",
       " 'ETD_DST_STOP_NO',\n",
       " 'ETD_DST_STOP_CODE',\n",
       " 'ETD_CUR_SUB_STAGE',\n",
       " 'ETD_DST_SUB_STAGE',\n",
       " 'ETD_ADULTS',\n",
       " 'ETD_CHILD',\n",
       " 'ETD_ADULT_FARE',\n",
       " 'ETD_CHILD_FARE',\n",
       " 'ETD_AMOUNT',\n",
       " 'ETD_ARF',\n",
       " 'ETD_BRIDGE_FEE',\n",
       " 'ETD_MISC_FEE',\n",
       " 'ETD_DATE',\n",
       " 'ETD_TD_TIME',\n",
       " 'ETD_TRIPCOLL_AMT',\n",
       " 'ETD_DOC_NO',\n",
       " 'ETD_BUS_SRV_CODE',\n",
       " 'ETD_SEASON',\n",
       " 'ETD_TOT_COL_AMT',\n",
       " 'ETD_TICKET_TYPE2',\n",
       " 'ETD_DEPOT_CODE',\n",
       " 'ETD_LAST_UPD_DATE',\n",
       " 'ETD_UID',\n",
       " 'ETD_BATTERY_VOLT',\n",
       " 'ETD_CONCN_AMOUNT',\n",
       " 'ETD_CONCN_PERCENT',\n",
       " 'ETD_CUR_STOP_NAME',\n",
       " 'ETD_DST_STOP_NAME',\n",
       " 'ETD_KMS',\n",
       " 'ETD_TICKET_TYPE_DESCR']"
      ]
     },
     "execution_count": 8,
     "metadata": {},
     "output_type": "execute_result"
    }
   ],
   "source": [
    "list(ds_data['data_cols'].keys())"
   ]
  },
  {
   "cell_type": "code",
   "execution_count": 4,
   "metadata": {},
   "outputs": [
    {
     "data": {
      "text/plain": [
       "Index(['ETD_DATETIME', ' ETD_WAYBILL_NO                 ',\n",
       "       ' ETD_EBTMNO                     ', ' ETD_ROUTE_NO                   ',\n",
       "       ' ETD_ROUTE_TYPE                 ', ' ETD_TRIP_NO                    ',\n",
       "       ' ETD_TICKET_TYPE                ', ' ETD_TICKET_NO                  ',\n",
       "       ' ETD_TICKET_SUBNO               ', ' ETD_CUR_STOP_NO                ',\n",
       "       ' ETD_CUR_STOP_CODE              ', ' ETD_DST_STOP_NO                ',\n",
       "       ' ETD_DST_STOP_CODE              ', ' ETD_CUR_SUB_STAGE              ',\n",
       "       ' ETD_DST_SUB_STAGE              ', ' ETD_ADULTS                     ',\n",
       "       ' ETD_CHILD                      ', ' ETD_ADULT_FARE                 ',\n",
       "       ' ETD_CHILD_FARE                 ', ' ETD_AMOUNT                     ',\n",
       "       ' ETD_ARF                        ', ' ETD_BRIDGE_FEE                 ',\n",
       "       ' ETD_MISC_FEE                   ', ' ETD_TRIPCOLL_AMT               ',\n",
       "       ' ETD_DOC_NO                     ', ' ETD_BUS_SRV_CODE               ',\n",
       "       ' ETD_SEASON                     ', ' ETD_TOT_COL_AMT                ',\n",
       "       ' ETD_TICKET_TYPE2               ', ' ETD_DEPOT_CODE                 ',\n",
       "       ' ETD_LAST_UPD_DATE              ', ' ETD_UID                        ',\n",
       "       ' ETD_BATTERY_VOLT               ', ' ETD_CONCN_AMOUNT               ',\n",
       "       ' ETD_CONCN_PERCENT              ', ' ETD_CUR_STOP_NAME              ',\n",
       "       ' ETD_DST_STOP_NAME              ', ' ETD_KMS                        ',\n",
       "       ' ETD_TICKET_TYPE_DESCR          ', ' ETD_TRIP_DIRECTION             ',\n",
       "       ' ETD_SEATNO                     ', ' ETD_TRIPID                     ',\n",
       "       ' ETD_PNRNO                      '],\n",
       "      dtype='object')"
      ]
     },
     "execution_count": 4,
     "metadata": {},
     "output_type": "execute_result"
    }
   ],
   "source": [
    "p = pd.read_csv('../data/raw/shivmogga.csv', parse_dates={'ETD_DATETIME':[' ETD_DATE                       ',' ETD_TD_TIME                    ']})\n",
    "p.columns\n",
    "\n"
   ]
  },
  {
   "cell_type": "code",
   "execution_count": 11,
   "metadata": {},
   "outputs": [
    {
     "data": {
      "text/plain": [
       "{'ETD_DATETIME': 'ETD_DATETIME',\n",
       " ' ETD_WAYBILL_NO                 ': 'ETD_WAYBILL_NO',\n",
       " ' ETD_EBTMNO                     ': 'ETD_EBTMNO',\n",
       " ' ETD_ROUTE_NO                   ': 'ETD_ROUTE_NO',\n",
       " ' ETD_ROUTE_TYPE                 ': 'ETD_ROUTE_TYPE',\n",
       " ' ETD_TRIP_NO                    ': 'ETD_TRIP_NO',\n",
       " ' ETD_TICKET_TYPE                ': 'ETD_TICKET_TYPE',\n",
       " ' ETD_TICKET_NO                  ': 'ETD_TICKET_NO',\n",
       " ' ETD_TICKET_SUBNO               ': 'ETD_TICKET_SUBNO',\n",
       " ' ETD_CUR_STOP_NO                ': 'ETD_CUR_STOP_NO',\n",
       " ' ETD_CUR_STOP_CODE              ': 'ETD_CUR_STOP_CODE',\n",
       " ' ETD_DST_STOP_NO                ': 'ETD_DST_STOP_NO',\n",
       " ' ETD_DST_STOP_CODE              ': 'ETD_DST_STOP_CODE',\n",
       " ' ETD_CUR_SUB_STAGE              ': 'ETD_CUR_SUB_STAGE',\n",
       " ' ETD_DST_SUB_STAGE              ': 'ETD_DST_SUB_STAGE',\n",
       " ' ETD_ADULTS                     ': 'ETD_ADULTS',\n",
       " ' ETD_CHILD                      ': 'ETD_CHILD',\n",
       " ' ETD_ADULT_FARE                 ': 'ETD_ADULT_FARE',\n",
       " ' ETD_CHILD_FARE                 ': 'ETD_CHILD_FARE',\n",
       " ' ETD_AMOUNT                     ': 'ETD_AMOUNT',\n",
       " ' ETD_ARF                        ': 'ETD_ARF',\n",
       " ' ETD_BRIDGE_FEE                 ': 'ETD_BRIDGE_FEE',\n",
       " ' ETD_MISC_FEE                   ': 'ETD_MISC_FEE',\n",
       " ' ETD_TRIPCOLL_AMT               ': 'ETD_TRIPCOLL_AMT',\n",
       " ' ETD_DOC_NO                     ': 'ETD_DOC_NO',\n",
       " ' ETD_BUS_SRV_CODE               ': 'ETD_BUS_SRV_CODE',\n",
       " ' ETD_SEASON                     ': 'ETD_SEASON',\n",
       " ' ETD_TOT_COL_AMT                ': 'ETD_TOT_COL_AMT',\n",
       " ' ETD_TICKET_TYPE2               ': 'ETD_TICKET_TYPE2',\n",
       " ' ETD_DEPOT_CODE                 ': 'ETD_DEPOT_CODE',\n",
       " ' ETD_LAST_UPD_DATE              ': 'ETD_LAST_UPD_DATE',\n",
       " ' ETD_UID                        ': 'ETD_UID',\n",
       " ' ETD_BATTERY_VOLT               ': 'ETD_BATTERY_VOLT',\n",
       " ' ETD_CONCN_AMOUNT               ': 'ETD_CONCN_AMOUNT',\n",
       " ' ETD_CONCN_PERCENT              ': 'ETD_CONCN_PERCENT',\n",
       " ' ETD_CUR_STOP_NAME              ': 'ETD_CUR_STOP_NAME',\n",
       " ' ETD_DST_STOP_NAME              ': 'ETD_DST_STOP_NAME',\n",
       " ' ETD_KMS                        ': 'ETD_KMS',\n",
       " ' ETD_TICKET_TYPE_DESCR          ': 'ETD_TICKET_TYPE_DESCR',\n",
       " ' ETD_TRIP_DIRECTION             ': 'ETD_TRIP_DIRECTION',\n",
       " ' ETD_SEATNO                     ': 'ETD_SEATNO',\n",
       " ' ETD_TRIPID                     ': 'ETD_TRIPID',\n",
       " ' ETD_PNRNO                      ': 'ETD_PNRNO'}"
      ]
     },
     "execution_count": 11,
     "metadata": {},
     "output_type": "execute_result"
    }
   ],
   "source": [
    "# a =  list(p.columns)\n",
    "# g=p[[x for x in a if \"ETD\" in x]]\n",
    "# g.columns[0].strip()\n",
    "# p.columns = [x.strip() for x in p.columns]\n",
    "# p.columns\n",
    "{a:a.strip() for a in p.columns}"
   ]
  },
  {
   "cell_type": "code",
   "execution_count": 12,
   "metadata": {},
   "outputs": [
    {
     "data": {
      "text/html": [
       "<div>\n",
       "<style scoped>\n",
       "    .dataframe tbody tr th:only-of-type {\n",
       "        vertical-align: middle;\n",
       "    }\n",
       "\n",
       "    .dataframe tbody tr th {\n",
       "        vertical-align: top;\n",
       "    }\n",
       "\n",
       "    .dataframe thead th {\n",
       "        text-align: right;\n",
       "    }\n",
       "</style>\n",
       "<table border=\"1\" class=\"dataframe\">\n",
       "  <thead>\n",
       "    <tr style=\"text-align: right;\">\n",
       "      <th></th>\n",
       "      <th>ETD_DATETIME</th>\n",
       "      <th>ETD_WAYBILL_NO</th>\n",
       "      <th>ETD_EBTMNO</th>\n",
       "      <th>ETD_ROUTE_NO</th>\n",
       "      <th>ETD_ROUTE_TYPE</th>\n",
       "      <th>ETD_TRIP_NO</th>\n",
       "      <th>ETD_TICKET_TYPE</th>\n",
       "      <th>ETD_TICKET_NO</th>\n",
       "      <th>ETD_TICKET_SUBNO</th>\n",
       "      <th>ETD_CUR_STOP_NO</th>\n",
       "      <th>...</th>\n",
       "      <th>ETD_CONCN_AMOUNT</th>\n",
       "      <th>ETD_CONCN_PERCENT</th>\n",
       "      <th>ETD_CUR_STOP_NAME</th>\n",
       "      <th>ETD_DST_STOP_NAME</th>\n",
       "      <th>ETD_KMS</th>\n",
       "      <th>ETD_TICKET_TYPE_DESCR</th>\n",
       "      <th>ETD_TRIP_DIRECTION</th>\n",
       "      <th>ETD_SEATNO</th>\n",
       "      <th>ETD_TRIPID</th>\n",
       "      <th>ETD_PNRNO</th>\n",
       "    </tr>\n",
       "  </thead>\n",
       "  <tbody>\n",
       "    <tr>\n",
       "      <th>0</th>\n",
       "      <td>2018-11-01 08:31:48</td>\n",
       "      <td>629080</td>\n",
       "      <td>50134882</td>\n",
       "      <td>1</td>\n",
       "      <td>1</td>\n",
       "      <td>2</td>\n",
       "      <td>1</td>\n",
       "      <td>198317</td>\n",
       "      <td>0</td>\n",
       "      <td>14</td>\n",
       "      <td>...</td>\n",
       "      <td>0</td>\n",
       "      <td>0</td>\n",
       "      <td>BIRUR</td>\n",
       "      <td>KADUR</td>\n",
       "      <td>6</td>\n",
       "      <td>PASSENGER</td>\n",
       "      <td>D</td>\n",
       "      <td>NaN</td>\n",
       "      <td>----------</td>\n",
       "      <td>---------</td>\n",
       "    </tr>\n",
       "    <tr>\n",
       "      <th>1</th>\n",
       "      <td>2018-11-01 08:31:56</td>\n",
       "      <td>629080</td>\n",
       "      <td>50134882</td>\n",
       "      <td>1</td>\n",
       "      <td>1</td>\n",
       "      <td>2</td>\n",
       "      <td>1</td>\n",
       "      <td>198318</td>\n",
       "      <td>0</td>\n",
       "      <td>14</td>\n",
       "      <td>...</td>\n",
       "      <td>0</td>\n",
       "      <td>0</td>\n",
       "      <td>BIRUR</td>\n",
       "      <td>ARSIKERE</td>\n",
       "      <td>43</td>\n",
       "      <td>PASSENGER</td>\n",
       "      <td>D</td>\n",
       "      <td>NaN</td>\n",
       "      <td>----------</td>\n",
       "      <td>---------</td>\n",
       "    </tr>\n",
       "    <tr>\n",
       "      <th>2</th>\n",
       "      <td>2018-11-01 08:32:20</td>\n",
       "      <td>629080</td>\n",
       "      <td>50134882</td>\n",
       "      <td>1</td>\n",
       "      <td>1</td>\n",
       "      <td>2</td>\n",
       "      <td>1</td>\n",
       "      <td>198319</td>\n",
       "      <td>0</td>\n",
       "      <td>14</td>\n",
       "      <td>...</td>\n",
       "      <td>0</td>\n",
       "      <td>0</td>\n",
       "      <td>BIRUR</td>\n",
       "      <td>KADUR</td>\n",
       "      <td>6</td>\n",
       "      <td>PASSENGER</td>\n",
       "      <td>D</td>\n",
       "      <td>NaN</td>\n",
       "      <td>----------</td>\n",
       "      <td>---------</td>\n",
       "    </tr>\n",
       "  </tbody>\n",
       "</table>\n",
       "<p>3 rows × 43 columns</p>\n",
       "</div>"
      ],
      "text/plain": [
       "         ETD_DATETIME  ETD_WAYBILL_NO  ETD_EBTMNO  ETD_ROUTE_NO  \\\n",
       "0 2018-11-01 08:31:48          629080    50134882             1   \n",
       "1 2018-11-01 08:31:56          629080    50134882             1   \n",
       "2 2018-11-01 08:32:20          629080    50134882             1   \n",
       "\n",
       "   ETD_ROUTE_TYPE  ETD_TRIP_NO  ETD_TICKET_TYPE  ETD_TICKET_NO  \\\n",
       "0               1            2                1         198317   \n",
       "1               1            2                1         198318   \n",
       "2               1            2                1         198319   \n",
       "\n",
       "   ETD_TICKET_SUBNO  ETD_CUR_STOP_NO    ...      ETD_CONCN_AMOUNT  \\\n",
       "0                 0               14    ...                     0   \n",
       "1                 0               14    ...                     0   \n",
       "2                 0               14    ...                     0   \n",
       "\n",
       "   ETD_CONCN_PERCENT  ETD_CUR_STOP_NAME  ETD_DST_STOP_NAME  ETD_KMS  \\\n",
       "0                  0              BIRUR              KADUR        6   \n",
       "1                  0              BIRUR           ARSIKERE       43   \n",
       "2                  0              BIRUR              KADUR        6   \n",
       "\n",
       "   ETD_TICKET_TYPE_DESCR  ETD_TRIP_DIRECTION  ETD_SEATNO  ETD_TRIPID  \\\n",
       "0              PASSENGER                   D         NaN  ----------   \n",
       "1              PASSENGER                   D         NaN  ----------   \n",
       "2              PASSENGER                   D         NaN  ----------   \n",
       "\n",
       "   ETD_PNRNO  \n",
       "0  ---------  \n",
       "1  ---------  \n",
       "2  ---------  \n",
       "\n",
       "[3 rows x 43 columns]"
      ]
     },
     "execution_count": 12,
     "metadata": {},
     "output_type": "execute_result"
    }
   ],
   "source": [
    "# g=p[[x for x in a if \"ETD\" in x]]\n",
    "# g.head(3)\n",
    "gg = p.rename(columns={a:a.strip() for a in p.columns})\n",
    "gg=gg[[x for x in gg.columns if \"ETD\" in x]]\n",
    "gg.columns\n",
    "gg.head(3)"
   ]
  },
  {
   "cell_type": "code",
   "execution_count": 14,
   "metadata": {},
   "outputs": [],
   "source": [
    "gg.sort_values('ETD_DATETIME', inplace=True)"
   ]
  },
  {
   "cell_type": "code",
   "execution_count": null,
   "metadata": {},
   "outputs": [],
   "source": []
  },
  {
   "cell_type": "code",
   "execution_count": 58,
   "metadata": {},
   "outputs": [
    {
     "data": {
      "text/plain": [
       "'28,24,21,17,15,12,6,3,1'"
      ]
     },
     "execution_count": 58,
     "metadata": {},
     "output_type": "execute_result"
    }
   ],
   "source": [
    "c = gg.groupby('ETD_WAYBILL_NO')\n",
    "\n",
    "s = c.ETD_CUR_STOP_CODE.unique()\n",
    "s.index\n",
    "s.keys()\n",
    "','.join(map(str, s[629055]))"
   ]
  },
  {
   "cell_type": "code",
   "execution_count": 23,
   "metadata": {},
   "outputs": [
    {
     "data": {
      "text/html": [
       "<div>\n",
       "<style scoped>\n",
       "    .dataframe tbody tr th:only-of-type {\n",
       "        vertical-align: middle;\n",
       "    }\n",
       "\n",
       "    .dataframe tbody tr th {\n",
       "        vertical-align: top;\n",
       "    }\n",
       "\n",
       "    .dataframe thead th {\n",
       "        text-align: right;\n",
       "    }\n",
       "</style>\n",
       "<table border=\"1\" class=\"dataframe\">\n",
       "  <thead>\n",
       "    <tr style=\"text-align: right;\">\n",
       "      <th></th>\n",
       "      <th>STOP_NAME</th>\n",
       "      <th>STOP_CODE</th>\n",
       "    </tr>\n",
       "  </thead>\n",
       "  <tbody>\n",
       "    <tr>\n",
       "      <th>0</th>\n",
       "      <td>BENGALURU</td>\n",
       "      <td>1</td>\n",
       "    </tr>\n",
       "    <tr>\n",
       "      <th>1</th>\n",
       "      <td>BASAV.BUS.S</td>\n",
       "      <td>2</td>\n",
       "    </tr>\n",
       "    <tr>\n",
       "      <th>2</th>\n",
       "      <td>JHCROSS/DSH</td>\n",
       "      <td>3</td>\n",
       "    </tr>\n",
       "    <tr>\n",
       "      <th>3</th>\n",
       "      <td>NELAMANGALA</td>\n",
       "      <td>4</td>\n",
       "    </tr>\n",
       "    <tr>\n",
       "      <th>4</th>\n",
       "      <td>TUMAKURU</td>\n",
       "      <td>5</td>\n",
       "    </tr>\n",
       "    <tr>\n",
       "      <th>5</th>\n",
       "      <td>GUBBI</td>\n",
       "      <td>6</td>\n",
       "    </tr>\n",
       "    <tr>\n",
       "      <th>6</th>\n",
       "      <td>NITTUR</td>\n",
       "      <td>7</td>\n",
       "    </tr>\n",
       "    <tr>\n",
       "      <th>7</th>\n",
       "      <td>KB CROSS</td>\n",
       "      <td>8</td>\n",
       "    </tr>\n",
       "    <tr>\n",
       "      <th>8</th>\n",
       "      <td>TIPTUR</td>\n",
       "      <td>9</td>\n",
       "    </tr>\n",
       "    <tr>\n",
       "      <th>9</th>\n",
       "      <td>ARSIKERE</td>\n",
       "      <td>10</td>\n",
       "    </tr>\n",
       "    <tr>\n",
       "      <th>10</th>\n",
       "      <td>BANAVARA</td>\n",
       "      <td>11</td>\n",
       "    </tr>\n",
       "    <tr>\n",
       "      <th>11</th>\n",
       "      <td>MATHIGATTA</td>\n",
       "      <td>12</td>\n",
       "    </tr>\n",
       "    <tr>\n",
       "      <th>12</th>\n",
       "      <td>KADUR</td>\n",
       "      <td>13</td>\n",
       "    </tr>\n",
       "    <tr>\n",
       "      <th>13</th>\n",
       "      <td>BIRUR</td>\n",
       "      <td>14</td>\n",
       "    </tr>\n",
       "    <tr>\n",
       "      <th>14</th>\n",
       "      <td>TARIKERE</td>\n",
       "      <td>15</td>\n",
       "    </tr>\n",
       "    <tr>\n",
       "      <th>15</th>\n",
       "      <td>BHADRAVATHI</td>\n",
       "      <td>16</td>\n",
       "    </tr>\n",
       "    <tr>\n",
       "      <th>16</th>\n",
       "      <td>SHIVAMOGGA</td>\n",
       "      <td>17</td>\n",
       "    </tr>\n",
       "  </tbody>\n",
       "</table>\n",
       "</div>"
      ],
      "text/plain": [
       "      STOP_NAME  STOP_CODE\n",
       "0     BENGALURU          1\n",
       "1   BASAV.BUS.S          2\n",
       "2   JHCROSS/DSH          3\n",
       "3   NELAMANGALA          4\n",
       "4      TUMAKURU          5\n",
       "5         GUBBI          6\n",
       "6        NITTUR          7\n",
       "7      KB CROSS          8\n",
       "8        TIPTUR          9\n",
       "9      ARSIKERE         10\n",
       "10     BANAVARA         11\n",
       "11   MATHIGATTA         12\n",
       "12        KADUR         13\n",
       "13        BIRUR         14\n",
       "14     TARIKERE         15\n",
       "15  BHADRAVATHI         16\n",
       "16   SHIVAMOGGA         17"
      ]
     },
     "execution_count": 23,
     "metadata": {},
     "output_type": "execute_result"
    }
   ],
   "source": [
    "list_stops = ['BENGALURU',\n",
    "'BASAV.BUS.S',\n",
    "'JHCROSS/DSH',\n",
    "'NELAMANGALA',\n",
    "'TUMAKURU',\n",
    "'GUBBI',\n",
    "'NITTUR',\n",
    "'KB CROSS',\n",
    "'TIPTUR',\n",
    "'ARSIKERE',\n",
    "'BANAVARA',\n",
    "'MATHIGATTA',\n",
    "'KADUR',\n",
    "'BIRUR',\n",
    "'TARIKERE',\n",
    "'BHADRAVATHI',\n",
    "'SHIVAMOGGA']\n",
    "list(range(1,len(list_stops)+1))\n",
    "\n",
    "list_stops_df = pd.DataFrame({\"STOP_NAME\":list_stops, \"STOP_CODE\":list(range(1,len(list_stops)+1))})\n",
    "list_stops_df\n"
   ]
  },
  {
   "cell_type": "code",
   "execution_count": 24,
   "metadata": {},
   "outputs": [
    {
     "name": "stdout",
     "output_type": "stream",
     "text": [
      "connection established : <sqlite3.Connection object at 0x10442a110>\n"
     ]
    }
   ],
   "source": [
    "import sqlite3 as sql\n",
    "import os, sys\n",
    "if os.path.exists('../data/db/'):\n",
    "    conn = sql.connect('../data/db/ksrtc.db')\n",
    "    print('connection established : {}'.format(conn))\n",
    "else:\n",
    "    print(\"path does not exists\")"
   ]
  },
  {
   "cell_type": "code",
   "execution_count": 25,
   "metadata": {},
   "outputs": [],
   "source": [
    "list_stops_df.to_sql('STOP_TABLE',con=conn, if_exists='append', index_label='ID')"
   ]
  },
  {
   "cell_type": "code",
   "execution_count": 55,
   "metadata": {},
   "outputs": [],
   "source": [
    "gg.to_sql('KSRTC_BUS_DATA',con=conn, if_exists='append', index_label='ID')"
   ]
  },
  {
   "cell_type": "code",
   "execution_count": 26,
   "metadata": {},
   "outputs": [],
   "source": [
    "# conn.execute(\"DROP TABLE IF EXISTS KSRTC_BUS\")\n",
    "conn.commit()\n",
    "conn.close()"
   ]
  },
  {
   "cell_type": "code",
   "execution_count": 68,
   "metadata": {},
   "outputs": [
    {
     "data": {
      "text/plain": [
       "<pandas.io.parsers.TextFileReader at 0x10a246358>"
      ]
     },
     "execution_count": 68,
     "metadata": {},
     "output_type": "execute_result"
    }
   ],
   "source": [
    "reader"
   ]
  },
  {
   "cell_type": "code",
   "execution_count": 69,
   "metadata": {},
   "outputs": [
    {
     "name": "stdout",
     "output_type": "stream",
     "text": [
      "writing\n",
      "\n",
      "writing\n",
      "\n",
      "writing\n",
      "\n"
     ]
    }
   ],
   "source": [
    "for chunk in reader:\n",
    "    print(\"writing\\n\")\n",
    "    chunk.to_sql('KSRTC_BUS',con=conn, if_exists='append', index_label='ID')\n",
    "conn.commit()"
   ]
  },
  {
   "cell_type": "code",
   "execution_count": 43,
   "metadata": {},
   "outputs": [
    {
     "name": "stdout",
     "output_type": "stream",
     "text": [
      "thik hai\n"
     ]
    }
   ],
   "source": [
    "if reader:\n",
    "    print(\"thik hai\")\n",
    "else:\n",
    "    print(\"nahi thik hai\")"
   ]
  },
  {
   "cell_type": "code",
   "execution_count": 86,
   "metadata": {},
   "outputs": [
    {
     "data": {
      "text/plain": [
       "[(0,)]"
      ]
     },
     "execution_count": 86,
     "metadata": {},
     "output_type": "execute_result"
    }
   ],
   "source": [
    "p = conn.execute(\"select count(*) from KSRTC_BUS\")\n",
    "p.fetchall()"
   ]
  },
  {
   "cell_type": "code",
   "execution_count": 81,
   "metadata": {},
   "outputs": [],
   "source": [
    "pp = conn.execute(\"SELECT name FROM sqlite_master WHERE type='table' AND name='KSRTC_BUS'\")\n",
    "cc = pp.fetchall()\n",
    "cc"
   ]
  },
  {
   "cell_type": "code",
   "execution_count": 84,
   "metadata": {},
   "outputs": [
    {
     "data": {
      "text/plain": [
       "[]"
      ]
     },
     "execution_count": 84,
     "metadata": {},
     "output_type": "execute_result"
    }
   ],
   "source": [
    "pp = conn.execute(\"delete from KSRTC_BUS\")\n",
    "conn.commit()\n",
    "cc = pp.fetchall()\n",
    "cc"
   ]
  },
  {
   "cell_type": "code",
   "execution_count": 83,
   "metadata": {},
   "outputs": [
    {
     "data": {
      "text/plain": [
       "0"
      ]
     },
     "execution_count": 83,
     "metadata": {},
     "output_type": "execute_result"
    }
   ],
   "source": [
    "len(cc)"
   ]
  },
  {
   "cell_type": "code",
   "execution_count": 73,
   "metadata": {},
   "outputs": [
    {
     "data": {
      "text/plain": [
       "24"
      ]
     },
     "execution_count": 73,
     "metadata": {},
     "output_type": "execute_result"
    }
   ],
   "source": [
    "p.fetchall()[0][0]"
   ]
  },
  {
   "cell_type": "code",
   "execution_count": 87,
   "metadata": {},
   "outputs": [],
   "source": [
    "conn.commit()\n",
    "conn.close()"
   ]
  },
  {
   "cell_type": "code",
   "execution_count": 63,
   "metadata": {},
   "outputs": [],
   "source": [
    "import difflib"
   ]
  },
  {
   "cell_type": "code",
   "execution_count": null,
   "metadata": {},
   "outputs": [],
   "source": []
  }
 ],
 "metadata": {
  "kernelspec": {
   "display_name": "Python 3",
   "language": "python",
   "name": "python3"
  },
  "language_info": {
   "codemirror_mode": {
    "name": "ipython",
    "version": 3
   },
   "file_extension": ".py",
   "mimetype": "text/x-python",
   "name": "python",
   "nbconvert_exporter": "python",
   "pygments_lexer": "ipython3",
   "version": "3.6.4"
  }
 },
 "nbformat": 4,
 "nbformat_minor": 2
}
