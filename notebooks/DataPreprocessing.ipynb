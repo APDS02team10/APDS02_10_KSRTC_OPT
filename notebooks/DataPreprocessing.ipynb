{
 "cells": [
  {
   "cell_type": "code",
   "execution_count": 1,
   "metadata": {},
   "outputs": [],
   "source": [
    "import json as js\n",
    "\n",
    "with open('../src/models/datastructure.json') as f:\n",
    "    ds_data = js.load(f)"
   ]
  },
  {
   "cell_type": "code",
   "execution_count": 2,
   "metadata": {},
   "outputs": [],
   "source": [
    "a = \"        629080 50134882 000001 1           2 01 198317 0 014 035 013 034 0 0 01  00              10              0         10         0              0            0 01-NOV-18 08:31:48             3292 ******** 01 N           11621 01            201 01-NOV-18 SANTHOSH   7.81                    0                 0 BIRUR       KADUR               6 PASSENGER          D NA ---------- ---------                  0                      100                0                0        N                  \""
   ]
  },
  {
   "cell_type": "code",
   "execution_count": 3,
   "metadata": {},
   "outputs": [
    {
     "name": "stdout",
     "output_type": "stream",
     "text": [
      "start 1 and end 14\n"
     ]
    },
    {
     "data": {
      "text/plain": [
       "'629080'"
      ]
     },
     "execution_count": 3,
     "metadata": {},
     "output_type": "execute_result"
    }
   ],
   "source": [
    "p = ds_data['data_cols']['ETD_WAYBILL_NO']\n",
    "print(\"start {} and end {}\".format(p['start'],p['size']))\n",
    "a[p['start'] - 1:p['size']+p['start'] - 1].strip()\n"
   ]
  },
  {
   "cell_type": "code",
   "execution_count": 9,
   "metadata": {},
   "outputs": [
    {
     "data": {
      "text/plain": [
       "'$ETD_WAYBILL_NO,$ETD_EBTMNO,$ETD_ROUTE_NO,$ETD_ROUTE_TYPE,$ETD_TRIP_NO,$ETD_TICKET_TYPE,$ETD_TICKET_NO,$ETD_TICKET_SUBNO,$ETD_CUR_STOP_NO,$ETD_CUR_STOP_CODE,$ETD_DST_STOP_NO,$ETD_DST_STOP_CODE,$ETD_CUR_SUB_STAGE,$ETD_DST_SUB_STAGE,$ETD_ADULTS,$ETD_CHILD,$ETD_ADULT_FARE,$ETD_CHILD_FARE,$ETD_AMOUNT,$ETD_ARF,$ETD_BRIDGE_FEE,$ETD_MISC_FEE,$ETD_DATE $ETD_TD_TIME,$ETD_TRIPCOLL_AMT,$ETD_DOC_NO,$ETD_BUS_SRV_CODE,$ETD_SEASON,$ETD_TOT_COL_AMT,$ETD_TICKET_TYPE2,$ETD_DEPOT_CODE,$ETD_LAST_UPD_DATE,$ETD_UID,$ETD_BATTERY_VOLT,$ETD_CONCN_AMOUNT,$ETD_CONCN_PERCENT,$ETD_CUR_STOP_NAME,$ETD_DST_STOP_NAME,$ETD_KMS'"
      ]
     },
     "execution_count": 9,
     "metadata": {},
     "output_type": "execute_result"
    }
   ],
   "source": [
    "from string import Template as t\n",
    "s = t(\"$\"+\",$\".join(ds_data['data_cols'].keys()))\n",
    "\n",
    "j = \"$\"+\",$\".join(ds_data['data_cols'].keys())\n",
    "j.replace('$ETD_DATE,$ETD_TD_TIME', '$ETD_DATE $ETD_TD_TIME')"
   ]
  },
  {
   "cell_type": "code",
   "execution_count": 42,
   "metadata": {},
   "outputs": [],
   "source": [
    "g = ds_data['data_cols']\n",
    "h = {k:a[v['start'] - 1:v['size']+v['start'] - 1].strip() for k,v in g.items()}\n"
   ]
  },
  {
   "cell_type": "code",
   "execution_count": 43,
   "metadata": {},
   "outputs": [
    {
     "data": {
      "text/plain": [
       "'629080,50134882,000001,1,2,1,198317,0,014,035,013,034,0,0,01,00,10,0,10,0,0,0,01-NOV-18,08:31:48,3292,********,01,N,11621,01,201,01-NOV-18,SANTHOSH,7.81,0,0,BIRUR,KADUR,6'"
      ]
     },
     "execution_count": 43,
     "metadata": {},
     "output_type": "execute_result"
    }
   ],
   "source": [
    "s.substitute(h)"
   ]
  },
  {
   "cell_type": "code",
   "execution_count": 3,
   "metadata": {},
   "outputs": [],
   "source": [
    "import os, sys\n",
    "os.getcwd()\n",
    "# os.pardir\n",
    "# sys.path.insert(0,os.path.pardir)\n",
    "print(os.getcwd())\n",
    "from src.data import DataProcessingModule as dp\n",
    "dp_class = dp.DataPreprocessing()\n",
    "dp_class.processData()"
   ]
  },
  {
   "cell_type": "code",
   "execution_count": 4,
   "metadata": {},
   "outputs": [
    {
     "data": {
      "text/plain": [
       "'.'"
      ]
     },
     "execution_count": 4,
     "metadata": {},
     "output_type": "execute_result"
    }
   ],
   "source": [
    "os.path.curdir"
   ]
  },
  {
   "cell_type": "code",
   "execution_count": null,
   "metadata": {},
   "outputs": [],
   "source": []
  },
  {
   "cell_type": "code",
   "execution_count": 5,
   "metadata": {},
   "outputs": [],
   "source": []
  },
  {
   "cell_type": "code",
   "execution_count": 7,
   "metadata": {},
   "outputs": [
    {
     "data": {
      "text/plain": [
       "'629080,50134882,000001,1,2,1,198317,0,014,035,013,034,0,0,01,00,10,0,10,0,0,0,01-NOV-18,08:31:48,3292,********,01,N,11621,01,201,01-NOV-18,SANTHOSH,7.81,0,0,BIRUR,KADUR,6'"
      ]
     },
     "execution_count": 7,
     "metadata": {},
     "output_type": "execute_result"
    }
   ],
   "source": [
    "k = dp_class.readDataParser('../src/models/datastructure.json')\n",
    "a = \"        629080 50134882 000001 1           2 01 198317 0 014 035 013 034 0 0 01  00              10              0         10         0              0            0 01-NOV-18 08:31:48             3292 ******** 01 N           11621 01            201 01-NOV-18 SANTHOSH   7.81                    0                 0 BIRUR       KADUR               6 PASSENGER          D NA ---------- ---------                  0                      100                0                0        N                  \"\n",
    "dp_class.parseTemplateForString(a)\n",
    "\n"
   ]
  },
  {
   "cell_type": "code",
   "execution_count": 8,
   "metadata": {},
   "outputs": [],
   "source": [
    "dp_class.write_processed_data('../data/raw/DATA_d.TXT','../data/clean_data/DATA_d.TXT')"
   ]
  },
  {
   "cell_type": "code",
   "execution_count": 16,
   "metadata": {},
   "outputs": [
    {
     "name": "stdout",
     "output_type": "stream",
     "text": [
      "../data/raw/DATA_d.TXT\n",
      "../data/raw/data_e.txt\n"
     ]
    }
   ],
   "source": [
    "src_dir = '../data/raw'\n",
    "clean_data_dir = '../data/clean_data'\n",
    "process_dir = '../data/processed'\n",
    "\n",
    "import os\n",
    "import shutil\n",
    "os.listdir('../data/raw')\n",
    "for file in os.listdir('../data/raw'):\n",
    "    if file.lower().endswith(\".txt\"):\n",
    "        p = os.path.join('../data/raw',file)\n",
    "        q = p.replace('/raw/','/clean_data/')\n",
    "        print(os.path.join('../data/raw',file))\n",
    "        dp_class.write_processed_data(p,q)\n",
    "        shutil.move(p,process_dir)"
   ]
  },
  {
   "cell_type": "code",
   "execution_count": 15,
   "metadata": {},
   "outputs": [
    {
     "data": {
      "text/plain": [
       "'../data/processed/DATA_d.TXT'"
      ]
     },
     "execution_count": 15,
     "metadata": {},
     "output_type": "execute_result"
    }
   ],
   "source": [
    "\n",
    "shutil.move(\"../data/raw/DATA_d.TXT\",process_dir)"
   ]
  },
  {
   "cell_type": "code",
   "execution_count": 58,
   "metadata": {},
   "outputs": [],
   "source": [
    "read_flag = False\n",
    "h = '../data/raw/DATA_d.TXT'\n",
    "c = h.replace('/raw/','/clean_data/')\n",
    "\n",
    "fw = open(c,'w')\n",
    "fw.write(\",\".join(k['data_cols'].keys()))\n",
    "fw.write(\"\\n\")\n",
    "\n",
    "with open(h) as f:\n",
    "    p = f.readline()\n",
    "    while p:\n",
    "        if 'ETD_WAYBILL_NO' in p:\n",
    "            p = f.readline()\n",
    "            p = f.readline()\n",
    "            read_flag = True\n",
    "            continue\n",
    "        if read_flag:\n",
    "            if len(p) < 10:\n",
    "                read_flag = False\n",
    "            else:\n",
    "                g = dp_class.parseTemplateForString(p)\n",
    "                fw.write(g)\n",
    "                fw.write(\"\\n\")\n",
    "        p = f.readline()\n",
    "        \n",
    "fw.close()           \n",
    "            "
   ]
  },
  {
   "cell_type": "code",
   "execution_count": 49,
   "metadata": {},
   "outputs": [],
   "source": [
    "h = '../data/raw/DATA_d.TXT'\n",
    "c = h.replace('/raw/','/processed/')\n",
    "\n",
    "with open(c, mode='w') as f:\n",
    "    f.writelines(list_of_data)"
   ]
  },
  {
   "cell_type": "code",
   "execution_count": 14,
   "metadata": {},
   "outputs": [
    {
     "name": "stdout",
     "output_type": "stream",
     "text": [
      "operation completed\n"
     ]
    }
   ],
   "source": [
    "try:\n",
    "    p[0]\n",
    "except IndexError:\n",
    "    print(\"error\")\n",
    "else:\n",
    "    print('operation completed')\n",
    "  "
   ]
  },
  {
   "cell_type": "code",
   "execution_count": 10,
   "metadata": {},
   "outputs": [],
   "source": [
    "import os, sys\n"
   ]
  },
  {
   "cell_type": "code",
   "execution_count": 11,
   "metadata": {},
   "outputs": [
    {
     "data": {
      "text/plain": [
       "True"
      ]
     },
     "execution_count": 11,
     "metadata": {},
     "output_type": "execute_result"
    }
   ],
   "source": [
    "os.path.exists('../data/clean_data/data1.txt')"
   ]
  },
  {
   "cell_type": "code",
   "execution_count": null,
   "metadata": {},
   "outputs": [],
   "source": []
  }
 ],
 "metadata": {
  "kernelspec": {
   "display_name": "Python 3",
   "language": "python",
   "name": "python3"
  },
  "language_info": {
   "codemirror_mode": {
    "name": "ipython",
    "version": 3
   },
   "file_extension": ".py",
   "mimetype": "text/x-python",
   "name": "python",
   "nbconvert_exporter": "python",
   "pygments_lexer": "ipython3",
   "version": "3.6.4"
  }
 },
 "nbformat": 4,
 "nbformat_minor": 2
}
